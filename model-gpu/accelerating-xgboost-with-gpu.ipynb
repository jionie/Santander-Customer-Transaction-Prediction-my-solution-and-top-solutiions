{
 "cells": [
  {
   "cell_type": "markdown",
   "metadata": {
    "_cell_guid": "79c7e3d0-c299-4dcb-8224-4455121ee9b0",
    "_uuid": "d629ff2d2480ee46fbb7e2d37f6b5fab8052498a"
   },
   "source": [
    "# Accelerating XGboost with GPU\n",
    "\n",
    "This kernel uses the Xgboost models, running on CPU and GPU. With the GPU acceleration, we gain a ~8.5x performance improvement on an NVIDIA K80 card compared to the 2-core virtual CPU available in the Kaggle VM (1h 8min 46s vs. 8min 20s).\n",
    "\n",
    "The gain on a NVIDIA 1080ti card compared to an Intel i7 6900K 16-core CPU is ~6.6x.\n",
    "\n",
    "To turn GPU support on in Kaggle, in notebook settings, set the **GPU beta** option to \"GPU on\".\n",
    "\n",
    "## Notebook  Content\n",
    "1. [Loading the data](#0) <br>    \n",
    "1. [Training the model on CPU](#1)\n",
    "1. [Training the model on GPU](#2)\n",
    "1. [Submission](#3)\n"
   ]
  },
  {
   "cell_type": "markdown",
   "metadata": {
    "_uuid": "a73bddfe08a63414f7dc32ed7cfb82a1a67bfd0d"
   },
   "source": [
    "<a id=\"0\"></a>\n",
    "## 1. Loading the data"
   ]
  },
  {
   "cell_type": "code",
   "execution_count": 1,
   "metadata": {
    "_uuid": "e1771b340495c4e7ca3baaa2736011f55b29b6cd"
   },
   "outputs": [],
   "source": [
    "import pandas as pd\n",
    "import numpy as np\n",
    "from sklearn.model_selection import StratifiedKFold\n",
    "from sklearn import metrics\n",
    "import gc\n",
    "import xgboost as xgb\n",
    "\n",
    "pd.set_option('display.max_columns', 200)"
   ]
  },
  {
   "cell_type": "code",
   "execution_count": 2,
   "metadata": {
    "_uuid": "19539c2630225e76c85a11268f6629abaabd0a15"
   },
   "outputs": [],
   "source": [
    "train_df = pd.read_csv('../input/train.csv', engine='python')\n",
    "test_df = pd.read_csv('../input/test.csv', engine='python')"
   ]
  },
  {
   "cell_type": "markdown",
   "metadata": {
    "_uuid": "1f0bf935dbfd40912360038f626f746f1c67ecbd"
   },
   "source": [
    "<a id=\"1\"></a> \n",
    "## 2. Training the model on CPU"
   ]
  },
  {
   "cell_type": "code",
   "execution_count": 3,
   "metadata": {
    "_uuid": "7d502e4dbd21c35300c3e2e25b761d4ed1fa3034"
   },
   "outputs": [
    {
     "name": "stdout",
     "output_type": "stream",
     "text": [
      "Architecture:          x86_64\n",
      "CPU op-mode(s):        32-bit, 64-bit\n",
      "Byte Order:            Little Endian\n",
      "CPU(s):                2\n",
      "On-line CPU(s) list:   0,1\n",
      "Thread(s) per core:    2\n",
      "Core(s) per socket:    1\n",
      "Socket(s):             1\n",
      "NUMA node(s):          1\n",
      "Vendor ID:             GenuineIntel\n",
      "CPU family:            6\n",
      "Model:                 63\n",
      "Model name:            Intel(R) Xeon(R) CPU @ 2.30GHz\n",
      "Stepping:              0\n",
      "CPU MHz:               2300.000\n",
      "BogoMIPS:              4600.00\n",
      "Hypervisor vendor:     KVM\n",
      "Virtualization type:   full\n",
      "L1d cache:             32K\n",
      "L1i cache:             32K\n",
      "L2 cache:              256K\n",
      "L3 cache:              46080K\n",
      "NUMA node0 CPU(s):     0,1\n",
      "Flags:                 fpu vme de pse tsc msr pae mce cx8 apic sep mtrr pge mca cmov pat pse36 clflush mmx fxsr sse sse2 ss ht syscall nx pdpe1gb rdtscp lm constant_tsc rep_good nopl xtopology nonstop_tsc eagerfpu pni pclmulqdq ssse3 fma cx16 pcid sse4_1 sse4_2 x2apic movbe popcnt aes xsave avx f16c rdrand hypervisor lahf_lm abm invpcid_single kaiser fsgsbase tsc_adjust bmi1 avx2 smep bmi2 erms invpcid xsaveopt arat\n"
     ]
    }
   ],
   "source": [
    "import subprocess\n",
    "print((subprocess.check_output(\"lscpu\", shell=True).strip()).decode())"
   ]
  },
  {
   "cell_type": "code",
   "execution_count": 4,
   "metadata": {
    "_uuid": "649fba8696c1cd36d64f5a05dfbb9219f4a276d8"
   },
   "outputs": [],
   "source": [
    "MAX_TREE_DEPTH = 8\n",
    "TREE_METHOD = 'hist'\n",
    "ITERATIONS = 1000\n",
    "SUBSAMPLE = 0.6\n",
    "REGULARIZATION = 0.1\n",
    "GAMMA = 0.3\n",
    "POS_WEIGHT = 1\n",
    "EARLY_STOP = 10\n",
    "\n",
    "params = {'tree_method': TREE_METHOD, 'max_depth': MAX_TREE_DEPTH, 'alpha': REGULARIZATION,\n",
    "          'gamma': GAMMA, 'subsample': SUBSAMPLE, 'scale_pos_weight': POS_WEIGHT, 'learning_rate': 0.05, \n",
    "          'silent': 1, 'objective':'binary:logistic', 'eval_metric': 'auc', 'silent':True, \n",
    "          'verbose_eval': False}"
   ]
  },
  {
   "cell_type": "code",
   "execution_count": 5,
   "metadata": {
    "_uuid": "2ae730641e1325ce2b14cedf4c83891596362f18"
   },
   "outputs": [
    {
     "name": "stdout",
     "output_type": "stream",
     "text": [
      "\n",
      "Fold 1\n",
      "[22:49:15] Tree method is selected to be 'hist', which uses a single updater grow_fast_histmaker.\n",
      "\n",
      "Fold 2\n",
      "[22:56:07] Tree method is selected to be 'hist', which uses a single updater grow_fast_histmaker.\n",
      "\n",
      "Fold 3\n",
      "[23:02:23] Tree method is selected to be 'hist', which uses a single updater grow_fast_histmaker.\n",
      "\n",
      "Fold 4\n",
      "[23:10:20] Tree method is selected to be 'hist', which uses a single updater grow_fast_histmaker.\n",
      "\n",
      "Fold 5\n",
      "[23:16:04] Tree method is selected to be 'hist', which uses a single updater grow_fast_histmaker.\n",
      "\n",
      "\n",
      "CV AUC: 0.88\n",
      "CPU times: user 1h 5min 2s, sys: 23.8 s, total: 1h 5min 26s\n",
      "Wall time: 33min 27s\n"
     ]
    }
   ],
   "source": [
    "%%time\n",
    "nfold = 5\n",
    "skf = StratifiedKFold(n_splits=nfold, shuffle=True, random_state=2019)\n",
    "\n",
    "oof = np.zeros(len(train_df))\n",
    "predictions = np.zeros(len(test_df))\n",
    "\n",
    "target = 'target'\n",
    "predictors = train_df.columns.values.tolist()[2:]\n",
    "\n",
    "i = 1\n",
    "for train_index, valid_index in skf.split(train_df, train_df.target.values):\n",
    "    print(\"\\nFold {}\".format(i))\n",
    "    xg_train = xgb.DMatrix(train_df.iloc[train_index][predictors].values,\n",
    "                           train_df.iloc[train_index][target].values,                           \n",
    "                           )\n",
    "    xg_valid = xgb.DMatrix(train_df.iloc[valid_index][predictors].values,\n",
    "                           train_df.iloc[valid_index][target].values,                           \n",
    "                           )   \n",
    "\n",
    "    \n",
    "    clf = xgb.train(params, xg_train, ITERATIONS, evals=[(xg_train, \"train\"), (xg_valid, \"eval\")],\n",
    "                early_stopping_rounds=EARLY_STOP, verbose_eval=False)\n",
    "    oof[valid_index] = clf.predict(xgb.DMatrix(train_df.iloc[valid_index][predictors].values)) \n",
    "    \n",
    "    predictions += clf.predict(xgb.DMatrix(test_df[predictors].values)) / nfold\n",
    "    i = i + 1\n",
    "\n",
    "print(\"\\n\\nCV AUC: {:<0.2f}\".format(metrics.roc_auc_score(train_df.target.values, oof)))"
   ]
  },
  {
   "cell_type": "markdown",
   "metadata": {
    "_uuid": "87c975ec4ea6ecec76cd5c2e4844b94d0df9718c"
   },
   "source": [
    "<a id=\"2\"></a>\n",
    "## 3. Training the model on GPU"
   ]
  },
  {
   "cell_type": "code",
   "execution_count": 6,
   "metadata": {
    "_uuid": "ee953dedb4c497a50057d937389e94c47871ce16"
   },
   "outputs": [
    {
     "name": "stdout",
     "output_type": "stream",
     "text": [
      "Thu Mar  7 23:22:42 2019       \r\n",
      "+-----------------------------------------------------------------------------+\r\n",
      "| NVIDIA-SMI 396.44                 Driver Version: 396.44                    |\r\n",
      "|-------------------------------+----------------------+----------------------+\r\n",
      "| GPU  Name        Persistence-M| Bus-Id        Disp.A | Volatile Uncorr. ECC |\r\n",
      "| Fan  Temp  Perf  Pwr:Usage/Cap|         Memory-Usage | GPU-Util  Compute M. |\r\n",
      "|===============================+======================+======================|\r\n",
      "|   0  Tesla P100-PCIE...  On   | 00000000:00:04.0 Off |                    0 |\r\n",
      "| N/A   47C    P0    33W / 250W |    303MiB / 16280MiB |      0%      Default |\r\n",
      "+-------------------------------+----------------------+----------------------+\r\n",
      "                                                                               \r\n",
      "+-----------------------------------------------------------------------------+\r\n",
      "| Processes:                                                       GPU Memory |\r\n",
      "|  GPU       PID   Type   Process name                             Usage      |\r\n",
      "|=============================================================================|\r\n",
      "+-----------------------------------------------------------------------------+\r\n"
     ]
    }
   ],
   "source": [
    "!nvidia-smi"
   ]
  },
  {
   "cell_type": "markdown",
   "metadata": {
    "_uuid": "e89590ef3fdc4315ae8b1d3741dace5e9ca5d574"
   },
   "source": [
    "We now train the model with a K80 GPU available in Kaggle. Xgboost provides out of the box support for single GPU training. On a local workstation, a GPU-ready xgboost docker image can be obtained from https://hub.docker.com/r/rapidsai/rapidsai/.\n",
    "\n",
    "All we need to change is to set: `TREE_METHOD = 'gpu_hist'`"
   ]
  },
  {
   "cell_type": "code",
   "execution_count": 7,
   "metadata": {
    "_uuid": "0c89daed3e0b04e19494b4e82ed6e8b6a65593e4"
   },
   "outputs": [],
   "source": [
    "MAX_TREE_DEPTH = 8\n",
    "TREE_METHOD = 'gpu_hist'\n",
    "ITERATIONS = 1000\n",
    "SUBSAMPLE = 0.6\n",
    "REGULARIZATION = 0.1\n",
    "GAMMA = 0.3\n",
    "POS_WEIGHT = 1\n",
    "EARLY_STOP = 10\n",
    "\n",
    "params = {'tree_method': TREE_METHOD, 'max_depth': MAX_TREE_DEPTH, 'alpha': REGULARIZATION,\n",
    "          'gamma': GAMMA, 'subsample': SUBSAMPLE, 'scale_pos_weight': POS_WEIGHT, 'learning_rate': 0.05, \n",
    "          'silent': 1, 'objective':'binary:logistic', 'eval_metric': 'auc',\n",
    "          'n_gpus': 1}"
   ]
  },
  {
   "cell_type": "code",
   "execution_count": 8,
   "metadata": {
    "_uuid": "7fec2a76b4c1eccfe2fdd3b8a253d46697eb3ce3"
   },
   "outputs": [
    {
     "name": "stdout",
     "output_type": "stream",
     "text": [
      "\n",
      "Fold 1\n",
      "\n",
      "Fold 2\n",
      "\n",
      "Fold 3\n",
      "\n",
      "Fold 4\n",
      "\n",
      "Fold 5\n",
      "\n",
      "\n",
      "CV AUC: 0.88\n",
      "CPU times: user 3min 2s, sys: 40.7 s, total: 3min 43s\n",
      "Wall time: 2min 55s\n"
     ]
    }
   ],
   "source": [
    "%%time\n",
    "nfold = 5\n",
    "skf = StratifiedKFold(n_splits=nfold, shuffle=True, random_state=2019)\n",
    "\n",
    "oof = np.zeros(len(train_df))\n",
    "predictions = np.zeros(len(test_df))\n",
    "\n",
    "target = 'target'\n",
    "predictors = train_df.columns.values.tolist()[2:]\n",
    "\n",
    "i = 1\n",
    "for train_index, valid_index in skf.split(train_df, train_df.target.values):\n",
    "    print(\"\\nFold {}\".format(i))\n",
    "    xg_train = xgb.DMatrix(train_df.iloc[train_index][predictors].values,\n",
    "                           train_df.iloc[train_index][target].values,                           \n",
    "                           )\n",
    "    xg_valid = xgb.DMatrix(train_df.iloc[valid_index][predictors].values,\n",
    "                           train_df.iloc[valid_index][target].values,                           \n",
    "                           )   \n",
    "\n",
    "    \n",
    "    clf = xgb.train(params, xg_train, ITERATIONS, evals=[(xg_train, \"train\"), (xg_valid, \"eval\")],\n",
    "                early_stopping_rounds=EARLY_STOP, verbose_eval=False)\n",
    "    oof[valid_index] = clf.predict(xgb.DMatrix(train_df.iloc[valid_index][predictors].values)) \n",
    "    \n",
    "    predictions += clf.predict(xgb.DMatrix(test_df[predictors].values)) / nfold\n",
    "    i = i + 1\n",
    "\n",
    "print(\"\\n\\nCV AUC: {:<0.2f}\".format(metrics.roc_auc_score(train_df.target.values, oof)))"
   ]
  },
  {
   "cell_type": "markdown",
   "metadata": {
    "_uuid": "031837dea84fdf5b0569ed5fa5ae7781569fe27b"
   },
   "source": [
    "<a id=\"3\"></a>\n",
    "## 4. Submission"
   ]
  },
  {
   "cell_type": "code",
   "execution_count": 9,
   "metadata": {
    "_uuid": "e6443da861b9f289f8733a04e9c809652efa8187"
   },
   "outputs": [
    {
     "data": {
      "text/html": [
       "<div>\n",
       "<style scoped>\n",
       "    .dataframe tbody tr th:only-of-type {\n",
       "        vertical-align: middle;\n",
       "    }\n",
       "\n",
       "    .dataframe tbody tr th {\n",
       "        vertical-align: top;\n",
       "    }\n",
       "\n",
       "    .dataframe thead th {\n",
       "        text-align: right;\n",
       "    }\n",
       "</style>\n",
       "<table border=\"1\" class=\"dataframe\">\n",
       "  <thead>\n",
       "    <tr style=\"text-align: right;\">\n",
       "      <th></th>\n",
       "      <th>ID_code</th>\n",
       "      <th>target</th>\n",
       "    </tr>\n",
       "  </thead>\n",
       "  <tbody>\n",
       "    <tr>\n",
       "      <th>0</th>\n",
       "      <td>test_0</td>\n",
       "      <td>0.093176</td>\n",
       "    </tr>\n",
       "    <tr>\n",
       "      <th>1</th>\n",
       "      <td>test_1</td>\n",
       "      <td>0.207328</td>\n",
       "    </tr>\n",
       "    <tr>\n",
       "      <th>2</th>\n",
       "      <td>test_2</td>\n",
       "      <td>0.111683</td>\n",
       "    </tr>\n",
       "    <tr>\n",
       "      <th>3</th>\n",
       "      <td>test_3</td>\n",
       "      <td>0.130428</td>\n",
       "    </tr>\n",
       "    <tr>\n",
       "      <th>4</th>\n",
       "      <td>test_4</td>\n",
       "      <td>0.044165</td>\n",
       "    </tr>\n",
       "    <tr>\n",
       "      <th>5</th>\n",
       "      <td>test_5</td>\n",
       "      <td>0.004539</td>\n",
       "    </tr>\n",
       "    <tr>\n",
       "      <th>6</th>\n",
       "      <td>test_6</td>\n",
       "      <td>0.011087</td>\n",
       "    </tr>\n",
       "    <tr>\n",
       "      <th>7</th>\n",
       "      <td>test_7</td>\n",
       "      <td>0.087311</td>\n",
       "    </tr>\n",
       "    <tr>\n",
       "      <th>8</th>\n",
       "      <td>test_8</td>\n",
       "      <td>0.006254</td>\n",
       "    </tr>\n",
       "    <tr>\n",
       "      <th>9</th>\n",
       "      <td>test_9</td>\n",
       "      <td>0.009013</td>\n",
       "    </tr>\n",
       "  </tbody>\n",
       "</table>\n",
       "</div>"
      ],
      "text/plain": [
       "  ID_code    target\n",
       "0  test_0  0.093176\n",
       "1  test_1  0.207328\n",
       "2  test_2  0.111683\n",
       "3  test_3  0.130428\n",
       "4  test_4  0.044165\n",
       "5  test_5  0.004539\n",
       "6  test_6  0.011087\n",
       "7  test_7  0.087311\n",
       "8  test_8  0.006254\n",
       "9  test_9  0.009013"
      ]
     },
     "execution_count": 9,
     "metadata": {},
     "output_type": "execute_result"
    }
   ],
   "source": [
    "sub_df = pd.DataFrame({\"ID_code\": test_df.ID_code.values})\n",
    "sub_df[\"target\"] = predictions\n",
    "sub_df[:10]"
   ]
  },
  {
   "cell_type": "code",
   "execution_count": 10,
   "metadata": {
    "_uuid": "9cb882db44e8c31b9075f342f975cb20a122ce05"
   },
   "outputs": [],
   "source": [
    "sub_df.to_csv(\"xgboost_gpu.csv\", index=False)"
   ]
  },
  {
   "cell_type": "code",
   "execution_count": 11,
   "metadata": {
    "_uuid": "5cafc8a0ecc209766bfcfb4056aba0277b7ec930"
   },
   "outputs": [],
   "source": []
  }
 ],
 "metadata": {
  "kernelspec": {
   "display_name": "Python 3",
   "language": "python",
   "name": "python3"
  },
  "language_info": {
   "codemirror_mode": {
    "name": "ipython",
    "version": 3
   },
   "file_extension": ".py",
   "mimetype": "text/x-python",
   "name": "python",
   "nbconvert_exporter": "python",
   "pygments_lexer": "ipython3",
   "version": "3.6.6"
  }
 },
 "nbformat": 4,
 "nbformat_minor": 1
}
