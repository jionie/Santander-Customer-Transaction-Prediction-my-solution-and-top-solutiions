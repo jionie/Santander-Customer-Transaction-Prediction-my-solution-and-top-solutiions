{
 "cells": [
  {
   "cell_type": "markdown",
   "metadata": {
    "_uuid": "9d53a030647586d717396d439161830e229eac00"
   },
   "source": [
    "# Neptune tracking example\n",
    "\n",
    "I will use the parametrers from the  ['Magic Parameters' kernel](https://www.kaggle.com/sandeepkumar121995/magic-parameters)\n",
    "\n",
    "To get a better picture of what Neptune is, go to this [Medium blog post](http://bit.ly/2HtXtMH).\n",
    "\n",
    "Let's start by importing the usual stuff."
   ]
  },
  {
   "cell_type": "code",
   "execution_count": 1,
   "metadata": {
    "_uuid": "91b0ca52c5c9c85f314a3286bb6f48343e51a0e9"
   },
   "outputs": [],
   "source": [
    "import matplotlib.pyplot as plt\n",
    "import seaborn as sns\n",
    "import numpy as np\n",
    "import pandas as pd\n",
    "import lightgbm as lgb\n",
    "import warnings\n",
    "from sklearn.metrics import roc_auc_score\n",
    "from sklearn.model_selection import StratifiedKFold\n",
    "from scikitplot.metrics import plot_confusion_matrix, plot_roc\n",
    "from tqdm import tqdm\n",
    "\n",
    "warnings.filterwarnings('ignore')"
   ]
  },
  {
   "cell_type": "markdown",
   "metadata": {
    "_uuid": "df6a938af2993cbefaaf97ab68598b8162a454e1"
   },
   "source": [
    "and loading the data."
   ]
  },
  {
   "cell_type": "code",
   "execution_count": 2,
   "metadata": {
    "_uuid": "2c9292f0108e0d88ec7ae9c2e031a55e13333d98"
   },
   "outputs": [],
   "source": [
    "train_df = pd.read_csv('../input/train.csv')\n",
    "test_df = pd.read_csv('../input/test.csv')"
   ]
  },
  {
   "cell_type": "markdown",
   "metadata": {
    "_cell_guid": "79c7e3d0-c299-4dcb-8224-4455121ee9b0",
    "_uuid": "d629ff2d2480ee46fbb7e2d37f6b5fab8052498a",
    "collapsed": true
   },
   "source": [
    "## Step 0\n",
    "Go to [neptune.ml](http://bit.ly/2FndEZO) and register.\n",
    "It is absolutely free, no card or anything required.\n",
    "\n",
    "## Step 1\n",
    "Initialize Neptune. Set the project name and authorization.\n",
    "\n",
    "The recommended way is to create the`NEPTUNE_API_TOKEN` environment variable and pass your account token there."
   ]
  },
  {
   "cell_type": "code",
   "execution_count": 3,
   "metadata": {
    "_uuid": "e4d39cd293056ede61592eca58db215f0ec4bcaa"
   },
   "outputs": [],
   "source": [
    "import os\n",
    "os.environ['NEPTUNE_API_TOKEN'] = 'your_long_api_token_goes_here'\n"
   ]
  },
  {
   "cell_type": "code",
   "execution_count": 4,
   "metadata": {
    "_uuid": "3b992d8f536d7d911f6195ea3cd9de9a346ea3da"
   },
   "outputs": [
    {
     "ename": "InvalidApiKey",
     "evalue": "The provided API key is invalid.",
     "output_type": "error",
     "traceback": [
      "\u001b[0;31m---------------------------------------------------------------------------\u001b[0m",
      "\u001b[0;31mUnicodeDecodeError\u001b[0m                        Traceback (most recent call last)",
      "\u001b[0;32m/opt/conda/lib/python3.6/site-packages/neptune/credentials.py\u001b[0m in \u001b[0;36m_api_token_to_dict\u001b[0;34m(api_token)\u001b[0m\n\u001b[1;32m     96\u001b[0m         \u001b[0;32mtry\u001b[0m\u001b[0;34m:\u001b[0m\u001b[0;34m\u001b[0m\u001b[0m\n\u001b[0;32m---> 97\u001b[0;31m             \u001b[0;32mreturn\u001b[0m \u001b[0mjson\u001b[0m\u001b[0;34m.\u001b[0m\u001b[0mloads\u001b[0m\u001b[0;34m(\u001b[0m\u001b[0mbase64\u001b[0m\u001b[0;34m.\u001b[0m\u001b[0mb64decode\u001b[0m\u001b[0;34m(\u001b[0m\u001b[0mapi_token\u001b[0m\u001b[0;34m.\u001b[0m\u001b[0mencode\u001b[0m\u001b[0;34m(\u001b[0m\u001b[0;34m)\u001b[0m\u001b[0;34m)\u001b[0m\u001b[0;34m.\u001b[0m\u001b[0mdecode\u001b[0m\u001b[0;34m(\u001b[0m\u001b[0;34m\"utf-8\"\u001b[0m\u001b[0;34m)\u001b[0m\u001b[0;34m)\u001b[0m\u001b[0;34m\u001b[0m\u001b[0m\n\u001b[0m\u001b[1;32m     98\u001b[0m         \u001b[0;32mexcept\u001b[0m \u001b[0mException\u001b[0m\u001b[0;34m:\u001b[0m\u001b[0;34m\u001b[0m\u001b[0m\n",
      "\u001b[0;31mUnicodeDecodeError\u001b[0m: 'utf-8' codec can't decode byte 0xab in position 2: invalid start byte",
      "\nDuring handling of the above exception, another exception occurred:\n",
      "\u001b[0;31mInvalidApiKey\u001b[0m                             Traceback (most recent call last)",
      "\u001b[0;32m<ipython-input-4-39a3f4f0deb6>\u001b[0m in \u001b[0;36m<module>\u001b[0;34m()\u001b[0m\n\u001b[1;32m      1\u001b[0m \u001b[0;32mimport\u001b[0m \u001b[0mneptune\u001b[0m\u001b[0;34m\u001b[0m\u001b[0m\n\u001b[1;32m      2\u001b[0m \u001b[0;34m\u001b[0m\u001b[0m\n\u001b[0;32m----> 3\u001b[0;31m \u001b[0mneptune\u001b[0m\u001b[0;34m.\u001b[0m\u001b[0minit\u001b[0m\u001b[0;34m(\u001b[0m\u001b[0mproject_qualified_name\u001b[0m\u001b[0;34m=\u001b[0m\u001b[0;34m'jakub-czakon/santander'\u001b[0m\u001b[0;34m)\u001b[0m\u001b[0;34m\u001b[0m\u001b[0m\n\u001b[0m",
      "\u001b[0;32m/opt/conda/lib/python3.6/site-packages/neptune/__init__.py\u001b[0m in \u001b[0;36minit\u001b[0;34m(project_qualified_name, api_token)\u001b[0m\n\u001b[1;32m     35\u001b[0m         \u001b[0;32mglobal\u001b[0m \u001b[0msession\u001b[0m\u001b[0;34m,\u001b[0m \u001b[0mproject\u001b[0m\u001b[0;34m\u001b[0m\u001b[0m\n\u001b[1;32m     36\u001b[0m \u001b[0;34m\u001b[0m\u001b[0m\n\u001b[0;32m---> 37\u001b[0;31m         \u001b[0msession\u001b[0m \u001b[0;34m=\u001b[0m \u001b[0mSession\u001b[0m\u001b[0;34m(\u001b[0m\u001b[0mapi_token\u001b[0m\u001b[0;34m=\u001b[0m\u001b[0mapi_token\u001b[0m\u001b[0;34m)\u001b[0m\u001b[0;34m\u001b[0m\u001b[0m\n\u001b[0m\u001b[1;32m     38\u001b[0m \u001b[0;34m\u001b[0m\u001b[0m\n\u001b[1;32m     39\u001b[0m         \u001b[0;32mif\u001b[0m \u001b[0mproject_qualified_name\u001b[0m \u001b[0;32mis\u001b[0m \u001b[0;32mNone\u001b[0m\u001b[0;34m:\u001b[0m\u001b[0;34m\u001b[0m\u001b[0m\n",
      "\u001b[0;32m/opt/conda/lib/python3.6/site-packages/neptune/sessions.py\u001b[0m in \u001b[0;36m__init__\u001b[0;34m(self, api_token)\u001b[0m\n\u001b[1;32m     55\u001b[0m \u001b[0;34m\u001b[0m\u001b[0m\n\u001b[1;32m     56\u001b[0m         \u001b[0mself\u001b[0m\u001b[0;34m.\u001b[0m\u001b[0mcredentials\u001b[0m \u001b[0;34m=\u001b[0m \u001b[0mcredentials\u001b[0m\u001b[0;34m\u001b[0m\u001b[0m\n\u001b[0;32m---> 57\u001b[0;31m         \u001b[0mself\u001b[0m\u001b[0;34m.\u001b[0m\u001b[0m_client\u001b[0m \u001b[0;34m=\u001b[0m \u001b[0mClient\u001b[0m\u001b[0;34m(\u001b[0m\u001b[0mself\u001b[0m\u001b[0;34m.\u001b[0m\u001b[0mcredentials\u001b[0m\u001b[0;34m.\u001b[0m\u001b[0mapi_address\u001b[0m\u001b[0;34m,\u001b[0m \u001b[0mself\u001b[0m\u001b[0;34m.\u001b[0m\u001b[0mcredentials\u001b[0m\u001b[0;34m.\u001b[0m\u001b[0mapi_token\u001b[0m\u001b[0;34m)\u001b[0m\u001b[0;34m\u001b[0m\u001b[0m\n\u001b[0m\u001b[1;32m     58\u001b[0m \u001b[0;34m\u001b[0m\u001b[0m\n\u001b[1;32m     59\u001b[0m     \u001b[0;32mdef\u001b[0m \u001b[0mget_project\u001b[0m\u001b[0;34m(\u001b[0m\u001b[0mself\u001b[0m\u001b[0;34m,\u001b[0m \u001b[0mproject_qualified_name\u001b[0m\u001b[0;34m)\u001b[0m\u001b[0;34m:\u001b[0m\u001b[0;34m\u001b[0m\u001b[0m\n",
      "\u001b[0;32m/opt/conda/lib/python3.6/site-packages/neptune/credentials.py\u001b[0m in \u001b[0;36mapi_address\u001b[0;34m(self)\u001b[0m\n\u001b[1;32m     90\u001b[0m             \u001b[0;34m'https://app.neptune.ml'\u001b[0m\u001b[0;34m\u001b[0m\u001b[0m\n\u001b[1;32m     91\u001b[0m         \"\"\"\n\u001b[0;32m---> 92\u001b[0;31m         \u001b[0;32mreturn\u001b[0m \u001b[0mself\u001b[0m\u001b[0;34m.\u001b[0m\u001b[0m_api_token_to_dict\u001b[0m\u001b[0;34m(\u001b[0m\u001b[0mself\u001b[0m\u001b[0;34m.\u001b[0m\u001b[0mapi_token\u001b[0m\u001b[0;34m)\u001b[0m\u001b[0;34m[\u001b[0m\u001b[0;34m'api_address'\u001b[0m\u001b[0;34m]\u001b[0m\u001b[0;34m\u001b[0m\u001b[0m\n\u001b[0m\u001b[1;32m     93\u001b[0m \u001b[0;34m\u001b[0m\u001b[0m\n\u001b[1;32m     94\u001b[0m     \u001b[0;34m@\u001b[0m\u001b[0mstaticmethod\u001b[0m\u001b[0;34m\u001b[0m\u001b[0m\n",
      "\u001b[0;32m/opt/conda/lib/python3.6/site-packages/neptune/credentials.py\u001b[0m in \u001b[0;36m_api_token_to_dict\u001b[0;34m(api_token)\u001b[0m\n\u001b[1;32m     97\u001b[0m             \u001b[0;32mreturn\u001b[0m \u001b[0mjson\u001b[0m\u001b[0;34m.\u001b[0m\u001b[0mloads\u001b[0m\u001b[0;34m(\u001b[0m\u001b[0mbase64\u001b[0m\u001b[0;34m.\u001b[0m\u001b[0mb64decode\u001b[0m\u001b[0;34m(\u001b[0m\u001b[0mapi_token\u001b[0m\u001b[0;34m.\u001b[0m\u001b[0mencode\u001b[0m\u001b[0;34m(\u001b[0m\u001b[0;34m)\u001b[0m\u001b[0;34m)\u001b[0m\u001b[0;34m.\u001b[0m\u001b[0mdecode\u001b[0m\u001b[0;34m(\u001b[0m\u001b[0;34m\"utf-8\"\u001b[0m\u001b[0;34m)\u001b[0m\u001b[0;34m)\u001b[0m\u001b[0;34m\u001b[0m\u001b[0m\n\u001b[1;32m     98\u001b[0m         \u001b[0;32mexcept\u001b[0m \u001b[0mException\u001b[0m\u001b[0;34m:\u001b[0m\u001b[0;34m\u001b[0m\u001b[0m\n\u001b[0;32m---> 99\u001b[0;31m             \u001b[0;32mraise\u001b[0m \u001b[0mInvalidApiKey\u001b[0m\u001b[0;34m(\u001b[0m\u001b[0;34m)\u001b[0m\u001b[0;34m\u001b[0m\u001b[0m\n\u001b[0m",
      "\u001b[0;31mInvalidApiKey\u001b[0m: The provided API key is invalid."
     ]
    }
   ],
   "source": [
    "import neptune\n",
    "\n",
    "neptune.init(project_qualified_name='jakub-czakon/santander')"
   ]
  },
  {
   "cell_type": "markdown",
   "metadata": {
    "_uuid": "49365069424d87f97083c2018b3b99e764edfd01"
   },
   "source": [
    "## Step 2\n",
    "\n",
    "Define hyperparameters. Put everything you care about in one dictionary."
   ]
  },
  {
   "cell_type": "code",
   "execution_count": 5,
   "metadata": {
    "_uuid": "911c25c48c60882225f7484e75018d9b56c309bd"
   },
   "outputs": [],
   "source": [
    "NAME = 'Magic Parameters'\n",
    "\n",
    "N_SPLITS = 15\n",
    "SEED = 1234\n",
    "\n",
    "TRAIN_PARAMS = {\n",
    "        'num_boosting_rounds': 1000000,\n",
    "        'early_stopping_rounds' : 4000\n",
    "        }\n",
    "\n",
    "MODEL_PARAMS = {'bagging_freq': 5,\n",
    "         'bagging_fraction': 0.335,\n",
    "         'boost_from_average':'false',\n",
    "         'boost': 'gbdt',\n",
    "         'feature_fraction': 0.041,\n",
    "         'learning_rate': 0.1,\n",
    "         'max_depth': -1,\n",
    "         'metric':'auc',\n",
    "         'min_data_in_leaf': 80,\n",
    "         'min_sum_hessian_in_leaf': 10.0,\n",
    "         'num_leaves': 13,\n",
    "         'num_threads': 8,\n",
    "         'tree_learner': 'serial',\n",
    "         'objective': 'binary',\n",
    "         'verbosity': 1,\n",
    "                     }\n",
    "\n",
    "params = {**MODEL_PARAMS, **TRAIN_PARAMS}"
   ]
  },
  {
   "cell_type": "markdown",
   "metadata": {
    "_uuid": "0739a6df6d29cb3045fe47aedb3a926994e20984"
   },
   "source": [
    "## Step 3\n",
    "\n",
    "Create an experiment and run training\n",
    "\n",
    "In order to log stuff to neptune you need to create an experiment:\n",
    "\n",
    "    with neptune.create_experiment():\n",
    "\n",
    "and then simply log stuff like metrics or images to neptune:\n",
    "\n",
    "        neptune.send_metric('roc_auc', roc_auc_oof)\n",
    "        ...\n",
    "        neptune.send_image('model_diagnostics', 'model_diagnostics.png')\n",
    "\n",
    "**Optional (but cool)**\n",
    "\n",
    "Prepare stuff for custom logging. \n",
    " 1. **Lightgbm monitoring**:\n",
    "     I like to monitor my lightgbm training and compare the learning curves, so I want to create a `neptune_monitor` callback and  look at the charts as it trains.\n",
    " 1. **Model diagnoscs**:\n",
    "    I want to have a clear(er) picture of the situation so I log confusion matrix, ROC AUC curve and prediction distrubitions after every run. "
   ]
  },
  {
   "cell_type": "code",
   "execution_count": 6,
   "metadata": {
    "_uuid": "c9fb06cc41dd4b0bb0628ab65f870b1f1ac94b57"
   },
   "outputs": [],
   "source": [
    "def neptune_monitor(prefix):\n",
    "    def callback(env):\n",
    "        for name, loss_name, loss_value, _ in env.evaluation_result_list:\n",
    "            channel_name = '{}{}_{}'.format(prefix, name, loss_name)\n",
    "            neptune.send_metric(channel_name, x=env.iteration, y=loss_value)\n",
    "    return callback\n",
    "\n",
    "\n",
    "def plot_prediction_distribution(y_true, y_pred, ax):\n",
    "    df = pd.DataFrame({'prediction': y_pred, 'ground_truth': y_true})\n",
    "    \n",
    "    sns.distplot(df[df['ground_truth'] == 0]['prediction'], label='negative', ax=ax)\n",
    "    sns.distplot(df[df['ground_truth'] == 1]['prediction'], label='positive', ax=ax)\n",
    "\n",
    "    ax.legend(prop={'size': 16}, title = 'Labels')"
   ]
  },
  {
   "cell_type": "code",
   "execution_count": 7,
   "metadata": {
    "_uuid": "23d270273e1b2ac5d732dbc7b9994dd22de25b34",
    "scrolled": true
   },
   "outputs": [
    {
     "ename": "Uninitialized",
     "evalue": "You must initialize neptune-client first. For more information, please visit: https://github.com/neptune-ml/neptune-client#initialize-neptune",
     "output_type": "error",
     "traceback": [
      "\u001b[0;31m---------------------------------------------------------------------------\u001b[0m",
      "\u001b[0;31mUninitialized\u001b[0m                             Traceback (most recent call last)",
      "\u001b[0;32m<ipython-input-7-81d8ece6adf7>\u001b[0m in \u001b[0;36m<module>\u001b[0;34m()\u001b[0m\n\u001b[1;32m      1\u001b[0m with neptune.create_experiment(name=NAME,\n\u001b[0;32m----> 2\u001b[0;31m                                params=params):\n\u001b[0m\u001b[1;32m      3\u001b[0m \u001b[0;34m\u001b[0m\u001b[0m\n\u001b[1;32m      4\u001b[0m     \u001b[0mfolds\u001b[0m \u001b[0;34m=\u001b[0m \u001b[0mStratifiedKFold\u001b[0m\u001b[0;34m(\u001b[0m\u001b[0mn_splits\u001b[0m\u001b[0;34m=\u001b[0m\u001b[0mN_SPLITS\u001b[0m\u001b[0;34m,\u001b[0m \u001b[0mshuffle\u001b[0m\u001b[0;34m=\u001b[0m\u001b[0;32mFalse\u001b[0m\u001b[0;34m,\u001b[0m \u001b[0mrandom_state\u001b[0m\u001b[0;34m=\u001b[0m\u001b[0mSEED\u001b[0m\u001b[0;34m)\u001b[0m\u001b[0;34m\u001b[0m\u001b[0m\n\u001b[1;32m      5\u001b[0m \u001b[0;34m\u001b[0m\u001b[0m\n",
      "\u001b[0;32m/opt/conda/lib/python3.6/site-packages/neptune/__init__.py\u001b[0m in \u001b[0;36mcreate_experiment\u001b[0;34m(name, description, params, properties, tags, upload_source_files, abort_callback, upload_stdout, upload_stderr, send_hardware_metrics, run_monitoring_thread, handle_uncaught_exceptions)\u001b[0m\n\u001b[1;32m     73\u001b[0m     \u001b[0;32mglobal\u001b[0m \u001b[0mproject\u001b[0m\u001b[0;34m\u001b[0m\u001b[0m\n\u001b[1;32m     74\u001b[0m     \u001b[0;32mif\u001b[0m \u001b[0mproject\u001b[0m \u001b[0;32mis\u001b[0m \u001b[0;32mNone\u001b[0m\u001b[0;34m:\u001b[0m\u001b[0;34m\u001b[0m\u001b[0m\n\u001b[0;32m---> 75\u001b[0;31m         \u001b[0;32mraise\u001b[0m \u001b[0mUninitialized\u001b[0m\u001b[0;34m(\u001b[0m\u001b[0;34m)\u001b[0m\u001b[0;34m\u001b[0m\u001b[0m\n\u001b[0m\u001b[1;32m     76\u001b[0m     return project.create_experiment(\n\u001b[1;32m     77\u001b[0m         \u001b[0mname\u001b[0m\u001b[0;34m=\u001b[0m\u001b[0mname\u001b[0m\u001b[0;34m,\u001b[0m\u001b[0;34m\u001b[0m\u001b[0m\n",
      "\u001b[0;31mUninitialized\u001b[0m: You must initialize neptune-client first. For more information, please visit: https://github.com/neptune-ml/neptune-client#initialize-neptune"
     ]
    }
   ],
   "source": [
    "with neptune.create_experiment(name=NAME,\n",
    "                               params=params):\n",
    "\n",
    "    folds = StratifiedKFold(n_splits=N_SPLITS, shuffle=False, random_state=SEED)\n",
    "    \n",
    "    features = [c for c in train_df.columns if c not in ['ID_code', 'target']]\n",
    "    oof, predictions = np.zeros(len(train_df)), np.zeros(len(test_df))\n",
    "    for fold_, (trn_idx, val_idx) in enumerate(folds.split(train_df.values, train_df['target'].values)):\n",
    "        print(\"Fold {}\".format(fold_))\n",
    "        trn_data = lgb.Dataset(train_df.iloc[trn_idx][features], \n",
    "                                         label=train_df['target'].iloc[trn_idx])\n",
    "        val_data = lgb.Dataset(train_df.iloc[val_idx][features], \n",
    "                    label=train_df['target'].iloc[val_idx])\n",
    "\n",
    "        monitor = neptune_monitor(prefix='fold{}_'.format(fold_))\n",
    "        clf = lgb.train(MODEL_PARAMS, trn_data, \n",
    "                        TRAIN_PARAMS['num_boosting_rounds'], \n",
    "                        valid_sets = [trn_data, val_data], \n",
    "                        verbose_eval=5000, \n",
    "                        early_stopping_rounds = TRAIN_PARAMS\n",
    "                        ['early_stopping_rounds'],\n",
    "                        callbacks=[monitor])\n",
    "        oof[val_idx] = clf.predict(train_df.iloc[val_idx][features], num_iteration=clf.best_iteration)\n",
    "        predictions += clf.predict(test_df[features], num_iteration=clf.best_iteration) / folds.n_splits\n",
    "    roc_auc_oof = roc_auc_score(train_df['target'], oof)\n",
    "    print(\"CV score: {:<8.5f}\".format(roc_auc_oof))\n",
    "    neptune.send_metric('roc_auc', roc_auc_oof)\n",
    "\n",
    "    preds = pd.DataFrame(oof, columns=['pos_preds'])\n",
    "    preds['neg_preds'] = 1.0 - preds['pos_preds']\n",
    "    fig, (ax1, ax2, ax3) = plt.subplots(1,3, figsize=(24, 6))\n",
    "    plot_prediction_distribution(train_df['target'], preds['pos_preds'], ax=ax1);\n",
    "    plot_roc(train_df['target'], preds[['neg_preds','pos_preds']], ax=ax2);\n",
    "    plot_confusion_matrix(train_df['target'], oof>0.5, ax=ax3);\n",
    "    fig.savefig('model_diagnostics.png') \n",
    "    neptune.send_image('model_diagnostics', 'model_diagnostics.png')\n",
    "\n",
    "pd.DataFrame({\"ID_code\": train_df.ID_code.values, 'target':oof}).to_csv(\"oof_{}.csv\".format(NAME), index=False)\n",
    "pd.DataFrame({\"ID_code\": test_df.ID_code.values, 'target':predictions}).to_csv(\"submission_{}.csv\".format(NAME), index=False)\n"
   ]
  },
  {
   "cell_type": "markdown",
   "metadata": {
    "_uuid": "b04520bc64160c252958595f396b21a91b7886fb"
   },
   "source": [
    "# Step 4\n",
    "\n",
    "Go to the Experiment in Neptune -> https://ui.neptune.ml/jakub-czakon/santander/e/SAN1-59/charts.\n",
    "And see your training:\n",
    "\n",
    "![image](https://gist.githubusercontent.com/jakubczakon/f754769a39ea6b8fa9728ede49b9165c/raw/c8425bb2244200dcb86b8cf850db87696acc0322/kaggel_kernel1.png)\n",
    "\n",
    "If you log more experiments you can compare them and stuff:\n",
    "\n",
    "![image](https://gist.githubusercontent.com/jakubczakon/f754769a39ea6b8fa9728ede49b9165c/raw/c8425bb2244200dcb86b8cf850db87696acc0322/kaggle_kernel2.png)\n",
    "\n",
    "\n",
    "\n",
    "\n"
   ]
  },
  {
   "cell_type": "code",
   "execution_count": 8,
   "metadata": {
    "_uuid": "b4a6aa7927699c8c74558a58d9885362c9d44c66"
   },
   "outputs": [],
   "source": []
  }
 ],
 "metadata": {
  "kernelspec": {
   "display_name": "Python 3",
   "language": "python",
   "name": "python3"
  },
  "language_info": {
   "codemirror_mode": {
    "name": "ipython",
    "version": 3
   },
   "file_extension": ".py",
   "mimetype": "text/x-python",
   "name": "python",
   "nbconvert_exporter": "python",
   "pygments_lexer": "ipython3",
   "version": "3.6.6"
  }
 },
 "nbformat": 4,
 "nbformat_minor": 1
}
