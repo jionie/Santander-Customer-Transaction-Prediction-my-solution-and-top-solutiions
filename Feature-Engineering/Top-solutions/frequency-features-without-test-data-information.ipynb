{
 "cells": [
  {
   "cell_type": "code",
   "execution_count": 1,
   "metadata": {
    "_cell_guid": "b1076dfc-b9ad-4769-8c92-a6c4dae69d19",
    "_uuid": "8f2839f25d086af736a60e9eeb907d3b93b6e0e5"
   },
   "outputs": [],
   "source": [
    "import numpy as np\n",
    "import pandas as pd\n",
    "import lightgbm as lgb\n",
    "from scipy.special import logit\n",
    "\n",
    "train_df = pd.read_csv(\"../input/train.csv\")\n",
    "test_df = pd.read_csv(\"../input/test.csv\")\n",
    "features = [x for x in train_df.columns if x.startswith(\"var\")]\n",
    "\n",
    "# hist_df = pd.DataFrame()\n",
    "# for var in features:\n",
    "#     var_stats = train_df[var].append(test_df[var]).value_counts()\n",
    "#     hist_df[var] = pd.Series(test_df[var]).map(var_stats)\n",
    "#     hist_df[var] = hist_df[var] > 1\n",
    "\n",
    "# ind = hist_df.sum(axis=1) != 200\n",
    "var_stats = {var:train_df[var].value_counts() for var in features}\n",
    "\n"
   ]
  },
  {
   "cell_type": "code",
   "execution_count": 2,
   "metadata": {},
   "outputs": [],
   "source": [
    "pred = 0\n",
    "for var in features:\n",
    "    model = lgb.LGBMClassifier(**{\n",
    "        'learning_rate':0.05, 'max_bin': 165, 'max_depth': 5, 'min_child_samples': 150,\n",
    "        'min_child_weight': 0.1, 'min_split_gain': 0.0018, 'n_estimators': 41,\n",
    "        'num_leaves': 6, 'reg_alpha': 2.0, 'reg_lambda': 2.54, 'objective': 'binary', 'n_jobs': -1})\n",
    "    model = model.fit(np.hstack([train_df[var].values.reshape(-1,1),\n",
    "                                 train_df[var].map(var_stats[var]).values.reshape(-1,1)]),\n",
    "                               train_df[\"target\"].values)\n",
    "    X_test = np.hstack([test_df[var].values.reshape(-1,1),\n",
    "                                 test_df[var].map(var_stats[var]).values.reshape(-1,1)])\n",
    "    X_test[:,1] = X_test[:,1] + 1\n",
    "    X_test[:,1][np.isnan(X_test[:,1])] = 1\n",
    "    pred += logit(model.predict_proba(X_test)[:,1])\n",
    "    \n",
    "pd.DataFrame({\"ID_code\":test_df[\"ID_code\"], \"target\":pred}).to_csv(\"submission.csv\", index=False)"
   ]
  },
  {
   "cell_type": "code",
   "execution_count": 3,
   "metadata": {},
   "outputs": [],
   "source": []
  }
 ],
 "metadata": {
  "kernelspec": {
   "display_name": "Python 3",
   "language": "python",
   "name": "python3"
  },
  "language_info": {
   "codemirror_mode": {
    "name": "ipython",
    "version": 3
   },
   "file_extension": ".py",
   "mimetype": "text/x-python",
   "name": "python",
   "nbconvert_exporter": "python",
   "pygments_lexer": "ipython3",
   "version": "3.6.4"
  }
 },
 "nbformat": 4,
 "nbformat_minor": 1
}
